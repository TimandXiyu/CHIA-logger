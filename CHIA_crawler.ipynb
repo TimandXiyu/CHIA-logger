{
 "cells": [
  {
   "cell_type": "code",
   "execution_count": 62,
   "metadata": {
    "collapsed": true
   },
   "outputs": [],
   "source": [
    "import datetime\n",
    "import logging\n",
    "import time\n",
    "from selenium import webdriver\n",
    "import json\n",
    "import re\n",
    "from pathlib import Path\n",
    "import pandas as pd\n"
   ]
  },
  {
   "cell_type": "code",
   "execution_count": 73,
   "outputs": [],
   "source": [
    "def Convert2Tera(raw):\n",
    "    for miner in raw:\n",
    "        if miner[2] == 'GB':\n",
    "            miner[1] = str(round(float(miner[1]) / 1000, 2))\n",
    "            miner[2] = 'TB'\n",
    "    return raw\n",
    "\n",
    "def SanityCheck(raw):\n",
    "    cache = []\n",
    "    for i, miner in enumerate(raw):\n",
    "        if miner[-3] != u'在线':\n",
    "            cache.append(i)\n",
    "    for offlines in cache:\n",
    "        raw.pop(int(offlines))\n",
    "    return raw\n",
    "\n",
    "def Convert2Dict(raw):\n",
    "    kv = {}\n",
    "    for miner in raw:\n",
    "        kv[miner[0]] = miner[1]\n",
    "    return kv\n",
    "\n",
    "def toLowerCase(string):\n",
    "    return \"\".join(chr(ord(c) + 32) if 65 <= ord(c) <= 90 else c for c in string)\n",
    "\n",
    "def FormatString(raw):\n",
    "    for miner in raw:\n",
    "        miner[0] = miner[0].lower()\n",
    "    return raw\n",
    "\n",
    "def ParsebyJson(raw, save_dir):\n",
    "    current_time = datetime.datetime.now().strftime('%Y-%m-%d-%H-%M')\n",
    "    save_dir = Path(save_dir)\n",
    "    with open('worker_keywords.json') as json_file:\n",
    "        kv = json.load(json_file)\n",
    "        for key in kv:\n",
    "            for worker in raw:\n",
    "                if re.search(key, worker):\n",
    "                    kv[key].append(float(raw[worker]))\n",
    "    for key in kv:\n",
    "        kv[key] = sum(kv[key])\n",
    "    keys = pd.DataFrame(data=raw, index=['volume'])\n",
    "    keys.to_csv(str(save_dir /  Path(f'{current_time}.csv')))"
   ],
   "metadata": {
    "collapsed": false,
    "pycharm": {
     "name": "#%%\n"
    }
   }
  },
  {
   "cell_type": "code",
   "execution_count": 65,
   "outputs": [
    {
     "name": "stderr",
     "output_type": "stream",
     "text": [
      "f:\\conda\\envs\\clean-env\\lib\\site-packages\\ipykernel_launcher.py:6: DeprecationWarning: use options instead of chrome_options\n",
      "  \n",
      "DEBUG:selenium.webdriver.remote.remote_connection:POST http://127.0.0.1:50894/session {\"capabilities\": {\"firstMatch\": [{}], \"alwaysMatch\": {\"browserName\": \"chrome\", \"platformName\": \"any\", \"goog:chromeOptions\": {\"extensions\": [], \"args\": [\"user-data-dir=C:\\\\Users\\\\Tim Wang\\\\AppData\\\\Local\\\\Google\\\\Chrome\\\\User Data\", \"profile-directory=Profile 1\"]}}}, \"desiredCapabilities\": {\"browserName\": \"chrome\", \"version\": \"\", \"platform\": \"ANY\", \"goog:chromeOptions\": {\"extensions\": [], \"args\": [\"user-data-dir=C:\\\\Users\\\\Tim Wang\\\\AppData\\\\Local\\\\Google\\\\Chrome\\\\User Data\", \"profile-directory=Profile 1\"]}}}\n",
      "DEBUG:urllib3.connectionpool:Starting new HTTP connection (1): 127.0.0.1:50894\n",
      "DEBUG:urllib3.connectionpool:http://127.0.0.1:50894 \"POST /session HTTP/1.1\" 200 750\n",
      "DEBUG:selenium.webdriver.remote.remote_connection:Finished Request\n",
      "DEBUG:selenium.webdriver.remote.remote_connection:POST http://127.0.0.1:50894/session/64f787f39aa822ccebafaaa50f62b47c/url {\"url\": \"https://www.hpool.com/center/machine\"}\n",
      "DEBUG:urllib3.connectionpool:http://127.0.0.1:50894 \"POST /session/64f787f39aa822ccebafaaa50f62b47c/url HTTP/1.1\" 200 14\n",
      "DEBUG:selenium.webdriver.remote.remote_connection:Finished Request\n",
      "DEBUG:selenium.webdriver.remote.remote_connection:POST http://127.0.0.1:50894/session/64f787f39aa822ccebafaaa50f62b47c/element {\"using\": \"xpath\", \"value\": \"/html/body/div[1]/div[1]/div[2]/div[1]/div[1]/div/div/div/div[2]/div/div[1]/div/div/div/div/div[2]/div/div[3]/div[2]/div/table/tbody\"}\n",
      "DEBUG:urllib3.connectionpool:http://127.0.0.1:50894 \"POST /session/64f787f39aa822ccebafaaa50f62b47c/element HTTP/1.1\" 200 88\n",
      "DEBUG:selenium.webdriver.remote.remote_connection:Finished Request\n",
      "DEBUG:selenium.webdriver.remote.remote_connection:GET http://127.0.0.1:50894/session/64f787f39aa822ccebafaaa50f62b47c/element/ffed4480-91bb-4e66-908e-6031f743edeb/text {\"id\": \"ffed4480-91bb-4e66-908e-6031f743edeb\"}\n",
      "DEBUG:urllib3.connectionpool:http://127.0.0.1:50894 \"GET /session/64f787f39aa822ccebafaaa50f62b47c/element/ffed4480-91bb-4e66-908e-6031f743edeb/text HTTP/1.1\" 200 108\n",
      "DEBUG:selenium.webdriver.remote.remote_connection:Finished Request\n",
      "DEBUG:selenium.webdriver.remote.remote_connection:DELETE http://127.0.0.1:50894/session/64f787f39aa822ccebafaaa50f62b47c {}\n",
      "DEBUG:urllib3.connectionpool:http://127.0.0.1:50894 \"DELETE /session/64f787f39aa822ccebafaaa50f62b47c HTTP/1.1\" 200 14\n",
      "DEBUG:selenium.webdriver.remote.remote_connection:Finished Request\n"
     ]
    }
   ],
   "source": [
    "logging.basicConfig(level=logging.NOTSET)\n",
    "\n",
    "options = webdriver.ChromeOptions()\n",
    "options.add_argument(r\"user-data-dir=C:\\Users\\Tim Wang\\AppData\\Local\\Google\\Chrome\\User Data\")\n",
    "options.add_argument(r\"profile-directory=Profile 1\")\n",
    "driver = webdriver.Chrome(r'./chromedriver.exe', chrome_options=options)\n",
    "\n",
    "driver.get(\"https://www.hpool.com/center/machine\")\n",
    "time.sleep(2)\n",
    "\n",
    "result = driver.find_element_by_xpath('/html/body/div[1]/div[1]/div[2]/div[1]/div[1]/div/div/div/div[2]/div/div[1]/div/div/div/div/div[2]/div/div[3]/div[2]/div/table/tbody').text\n",
    "driver.quit()\n",
    "result = result.splitlines()\n",
    "result = [x.split(' ') for x in result]"
   ],
   "metadata": {
    "collapsed": false,
    "pycharm": {
     "name": "#%%\n"
    }
   }
  },
  {
   "cell_type": "code",
   "execution_count": 66,
   "outputs": [],
   "source": [
    "result = Convert2Tera(result)"
   ],
   "metadata": {
    "collapsed": false,
    "pycharm": {
     "name": "#%%\n"
    }
   }
  },
  {
   "cell_type": "code",
   "execution_count": 67,
   "outputs": [],
   "source": [
    "result = SanityCheck(result)"
   ],
   "metadata": {
    "collapsed": false,
    "pycharm": {
     "name": "#%%\n"
    }
   }
  },
  {
   "cell_type": "code",
   "execution_count": 68,
   "outputs": [],
   "source": [
    "result = FormatString(result)"
   ],
   "metadata": {
    "collapsed": false,
    "pycharm": {
     "name": "#%%\n"
    }
   }
  },
  {
   "cell_type": "code",
   "execution_count": 69,
   "outputs": [],
   "source": [
    "result = Convert2Dict(result)"
   ],
   "metadata": {
    "collapsed": false,
    "pycharm": {
     "name": "#%%\n"
    }
   }
  },
  {
   "cell_type": "code",
   "execution_count": 74,
   "outputs": [],
   "source": [
    "ParsebyJson(result, './')"
   ],
   "metadata": {
    "collapsed": false,
    "pycharm": {
     "name": "#%%\n"
    }
   }
  },
  {
   "cell_type": "code",
   "execution_count": 78,
   "outputs": [],
   "source": [
    "from glob import glob\n"
   ],
   "metadata": {
    "collapsed": false,
    "pycharm": {
     "name": "#%%\n"
    }
   }
  },
  {
   "cell_type": "code",
   "execution_count": 150,
   "outputs": [
    {
     "name": "stdout",
     "output_type": "stream",
     "text": [
      "(7, 5)\n"
     ]
    },
    {
     "data": {
      "text/plain": "['./2021-05-16-00-00.csv',\n './2021-05-16-01-00.csv',\n './2021-05-16-02-00.csv',\n './2021-05-16-03-00.csv',\n './2021-05-16-04-00.csv',\n './2021-05-16-05-00.csv',\n './2021-05-16-06-00.csv',\n './2021-05-16-07-00.csv',\n './2021-05-16-08-00.csv',\n './2021-05-16-09-00.csv',\n './2021-05-16-10-00.csv',\n './2021-05-16-11-00.csv',\n './2021-05-16-12-00.csv',\n './2021-05-16-13-00.csv',\n './2021-05-16-14-00.csv',\n './2021-05-16-15-00.csv',\n './2021-05-16-16-00.csv',\n './2021-05-16-17-00.csv',\n './2021-05-16-18-00.csv',\n './2021-05-16-19-00.csv',\n './2021-05-16-20-00.csv',\n './2021-05-16-21-00.csv',\n './2021-05-16-22-00.csv',\n './2021-05-16-23-00.csv']"
     },
     "execution_count": 150,
     "metadata": {},
     "output_type": "execute_result"
    }
   ],
   "source": [
    "def DailyAverage():\n",
    "    \"\"\"\n",
    "    :param date: date formatted as yyyy-mm-dd-hh-mm\n",
    "    \"\"\"\n",
    "    today = datetime.datetime.today().strftime('%Y-%m-%d')\n",
    "    yesterday = (datetime.datetime.today() + datetime.timedelta(days=-1)).strftime('%Y-%m-%d')\n",
    "    glob_today = [f'./{today}-00-00.csv',\n",
    "                  f'./{today}-01-00.csv',\n",
    "                  f'./{today}-02-00.csv',\n",
    "                  f'./{today}-03-00.csv',\n",
    "                  f'./{today}-04-00.csv',\n",
    "                  f'./{today}-05-00.csv',\n",
    "                  f'./{today}-06-00.csv',\n",
    "                  f'./{today}-07-00.csv',\n",
    "                  f'./{today}-08-00.csv',\n",
    "                  f'./{today}-09-00.csv',\n",
    "                  f'./{today}-10-00.csv',\n",
    "                  f'./{today}-11-00.csv',\n",
    "                  f'./{today}-12-00.csv']\n",
    "    glob_yesterday = [f'./{yesterday}-{x}-00.csv' for x in range(13, 24)]\n",
    "    fuse = glob_today + glob_yesterday\n",
    "    cache = []\n",
    "    for file in fuse:\n",
    "        if Path(file).exists():\n",
    "            cache.append(pd.read_csv(file))\n",
    "    full = pd.concat(cache, join='outer', axis=0, ignore_index=True)\n",
    "    full = full.drop('Unnamed: 0', axis=1)\n",
    "    full = full.sum(axis=0) / full.shape[0]\n",
    "    full = pd.DataFrame(full, columns=['Average']).T\n",
    "    full.to_csv(str(Path.cwd() /  Path(f'{today}.csv')))"
   ],
   "metadata": {
    "collapsed": false,
    "pycharm": {
     "name": "#%%\n"
    }
   }
  },
  {
   "cell_type": "code",
   "execution_count": null,
   "outputs": [],
   "source": [
    "DailyAverage()\n"
   ],
   "metadata": {
    "collapsed": false,
    "pycharm": {
     "name": "#%%\n"
    }
   }
  }
 ],
 "metadata": {
  "kernelspec": {
   "display_name": "Python 3",
   "language": "python",
   "name": "python3"
  },
  "language_info": {
   "codemirror_mode": {
    "name": "ipython",
    "version": 2
   },
   "file_extension": ".py",
   "mimetype": "text/x-python",
   "name": "python",
   "nbconvert_exporter": "python",
   "pygments_lexer": "ipython2",
   "version": "2.7.6"
  }
 },
 "nbformat": 4,
 "nbformat_minor": 0
}