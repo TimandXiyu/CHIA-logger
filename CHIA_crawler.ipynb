{
 "cells": [
  {
   "cell_type": "code",
   "execution_count": 1,
   "metadata": {
    "collapsed": true
   },
   "outputs": [],
   "source": [
    "import datetime\n",
    "import logging\n",
    "import time\n",
    "from selenium import webdriver\n",
    "import json\n",
    "import re\n",
    "from pathlib import Path\n",
    "import pandas as pd"
   ]
  },
  {
   "cell_type": "code",
   "execution_count": 4,
   "outputs": [],
   "source": [
    "def Convert2Tera(raw):\n",
    "    for miner in raw:\n",
    "        if miner[2] == 'GB':\n",
    "            miner[1] = str(round(float(miner[1]) / 1000, 2))\n",
    "            miner[2] = 'TB'\n",
    "    return raw\n",
    "\n",
    "def SanityCheck(raw):\n",
    "    cache = []\n",
    "    for i, miner in enumerate(raw):\n",
    "        if miner[-3] != u'在线':\n",
    "            cache.append(i)\n",
    "    for offlines in cache:\n",
    "        raw.pop(int(offlines))\n",
    "    return raw\n",
    "\n",
    "def Convert2Dict(raw):\n",
    "    kv = {}\n",
    "    for miner in raw:\n",
    "        kv[miner[0]] = miner[1]\n",
    "    return kv\n",
    "\n",
    "def toLowerCase(string):\n",
    "    return \"\".join(chr(ord(c) + 32) if 65 <= ord(c) <= 90 else c for c in string)\n",
    "\n",
    "def FormatString(raw):\n",
    "    for miner in raw:\n",
    "        miner[0] = miner[0].lower()\n",
    "    return raw\n",
    "\n",
    "def ParsebyJson(raw, save_dir):\n",
    "    current_time = datetime.datetime.now().strftime('%Y-%m-%d-%H-%M')\n",
    "    save_dir = Path(save_dir)\n",
    "    with open('worker_keywords.json') as json_file:\n",
    "        kv = json.load(json_file)\n",
    "        for key in kv:\n",
    "            for worker in raw:\n",
    "                if re.search(key, worker):\n",
    "                    kv[key].append(float(raw[worker]))\n",
    "    for key in kv:\n",
    "        kv[key] = sum(kv[key])\n",
    "    keys = pd.DataFrame(data=raw, index=['volume'])\n",
    "    keys.to_csv(str(save_dir /  Path(f'{current_time}.csv')))"
   ],
   "metadata": {
    "collapsed": false,
    "pycharm": {
     "name": "#%%\n"
    }
   }
  },
  {
   "cell_type": "code",
   "execution_count": 5,
   "outputs": [
    {
     "name": "stderr",
     "output_type": "stream",
     "text": [
      "C:\\Users\\tiwang\\anaconda3\\envs\\chialogger\\lib\\site-packages\\ipykernel_launcher.py:6: DeprecationWarning: use options instead of chrome_options\n",
      "  \n",
      "DEBUG:selenium.webdriver.remote.remote_connection:POST http://127.0.0.1:58474/session {\"capabilities\": {\"firstMatch\": [{}], \"alwaysMatch\": {\"browserName\": \"chrome\", \"platformName\": \"any\", \"goog:chromeOptions\": {\"extensions\": [], \"args\": [\"user-data-dir=C:\\\\Users\\\\tiwang\\\\AppData\\\\Local\\\\Google\\\\Chrome\\\\User Data\", \"profile-directory=Profile 1\"]}}}, \"desiredCapabilities\": {\"browserName\": \"chrome\", \"version\": \"\", \"platform\": \"ANY\", \"goog:chromeOptions\": {\"extensions\": [], \"args\": [\"user-data-dir=C:\\\\Users\\\\tiwang\\\\AppData\\\\Local\\\\Google\\\\Chrome\\\\User Data\", \"profile-directory=Profile 1\"]}}}\n",
      "DEBUG:urllib3.connectionpool:Starting new HTTP connection (1): 127.0.0.1:58474\n",
      "DEBUG:urllib3.connectionpool:http://127.0.0.1:58474 \"POST /session HTTP/1.1\" 200 748\n",
      "DEBUG:selenium.webdriver.remote.remote_connection:Finished Request\n",
      "DEBUG:selenium.webdriver.remote.remote_connection:POST http://127.0.0.1:58474/session/789b6e8eaa25610d334ef238f684ea78/url {\"url\": \"https://www.hpool.com/center/machine\"}\n",
      "DEBUG:urllib3.connectionpool:http://127.0.0.1:58474 \"POST /session/789b6e8eaa25610d334ef238f684ea78/url HTTP/1.1\" 200 14\n",
      "DEBUG:selenium.webdriver.remote.remote_connection:Finished Request\n",
      "DEBUG:selenium.webdriver.remote.remote_connection:POST http://127.0.0.1:58474/session/789b6e8eaa25610d334ef238f684ea78/element {\"using\": \"xpath\", \"value\": \"/html/body/div[1]/div[1]/div[2]/div[1]/div[1]/div/div/div/div[2]/div/div[1]/div/div/div/div/div[2]/div/div[3]/div[2]/div/table/tbody\"}\n",
      "DEBUG:urllib3.connectionpool:http://127.0.0.1:58474 \"POST /session/789b6e8eaa25610d334ef238f684ea78/element HTTP/1.1\" 200 88\n",
      "DEBUG:selenium.webdriver.remote.remote_connection:Finished Request\n",
      "DEBUG:selenium.webdriver.remote.remote_connection:GET http://127.0.0.1:58474/session/789b6e8eaa25610d334ef238f684ea78/element/f9877480-3005-4e53-9e7f-8f00183bf60a/text {\"id\": \"f9877480-3005-4e53-9e7f-8f00183bf60a\"}\n",
      "DEBUG:urllib3.connectionpool:http://127.0.0.1:58474 \"GET /session/789b6e8eaa25610d334ef238f684ea78/element/f9877480-3005-4e53-9e7f-8f00183bf60a/text HTTP/1.1\" 200 256\n",
      "DEBUG:selenium.webdriver.remote.remote_connection:Finished Request\n",
      "DEBUG:selenium.webdriver.remote.remote_connection:DELETE http://127.0.0.1:58474/session/789b6e8eaa25610d334ef238f684ea78 {}\n",
      "DEBUG:urllib3.connectionpool:http://127.0.0.1:58474 \"DELETE /session/789b6e8eaa25610d334ef238f684ea78 HTTP/1.1\" 200 14\n",
      "DEBUG:selenium.webdriver.remote.remote_connection:Finished Request\n"
     ]
    }
   ],
   "source": [
    "logging.basicConfig(level=logging.NOTSET)\n",
    "\n",
    "options = webdriver.ChromeOptions()\n",
    "options.add_argument(r\"user-data-dir=C:\\Users\\tiwang\\AppData\\Local\\Google\\Chrome\\User Data\")\n",
    "options.add_argument(r\"profile-directory=Profile 1\")\n",
    "driver = webdriver.Chrome(r'./chromedriver.exe', chrome_options=options)\n",
    "\n",
    "driver.get(\"https://www.hpool.com/center/machine\")\n",
    "time.sleep(2)\n",
    "\n",
    "result = driver.find_element_by_xpath('/html/body/div[1]/div[1]/div[2]/div[1]/div[1]/div/div/div/div[2]/div/div[1]/div/div/div/div/div[2]/div/div[3]/div[2]/div/table/tbody').text\n",
    "driver.quit()\n",
    "result = result.splitlines()\n",
    "result = [x.split(' ') for x in result]"
   ],
   "metadata": {
    "collapsed": false,
    "pycharm": {
     "name": "#%%\n"
    }
   }
  },
  {
   "cell_type": "code",
   "execution_count": 6,
   "outputs": [],
   "source": [
    "result = Convert2Tera(result)"
   ],
   "metadata": {
    "collapsed": false,
    "pycharm": {
     "name": "#%%\n"
    }
   }
  },
  {
   "cell_type": "code",
   "execution_count": 7,
   "outputs": [],
   "source": [
    "result = SanityCheck(result)"
   ],
   "metadata": {
    "collapsed": false,
    "pycharm": {
     "name": "#%%\n"
    }
   }
  },
  {
   "cell_type": "code",
   "execution_count": 8,
   "outputs": [],
   "source": [
    "result = FormatString(result)"
   ],
   "metadata": {
    "collapsed": false,
    "pycharm": {
     "name": "#%%\n"
    }
   }
  },
  {
   "cell_type": "code",
   "execution_count": 9,
   "outputs": [],
   "source": [
    "result = Convert2Dict(result)"
   ],
   "metadata": {
    "collapsed": false,
    "pycharm": {
     "name": "#%%\n"
    }
   }
  },
  {
   "cell_type": "code",
   "execution_count": 10,
   "outputs": [],
   "source": [
    "ParsebyJson(result, './')"
   ],
   "metadata": {
    "collapsed": false,
    "pycharm": {
     "name": "#%%\n"
    }
   }
  },
  {
   "cell_type": "code",
   "execution_count": 11,
   "outputs": [],
   "source": [
    "from glob import glob\n"
   ],
   "metadata": {
    "collapsed": false,
    "pycharm": {
     "name": "#%%\n"
    }
   }
  },
  {
   "cell_type": "code",
   "execution_count": 20,
   "outputs": [],
   "source": [
    "def DailyAverage():\n",
    "    \"\"\"\n",
    "    :param date: date formatted as yyyy-mm-dd-hh-mm\n",
    "    \"\"\"\n",
    "    current_time = datetime.datetime.now().strftime('%Y-%m-%d')\n",
    "    today = glob(f'./{current_time}-*.csv')\n",
    "    cache = []\n",
    "    for file in today:\n",
    "        cache.append(pd.read_csv(file))\n",
    "    full = pd.concat(cache, join='outer', axis=0, ignore_index=True)\n",
    "    full = full.drop('Unnamed: 0', axis=1)\n",
    "    full = full.fillna(0)\n",
    "    print(full)\n",
    "    full = full.sum(axis=0) / full.shape[0]\n",
    "    full = pd.DataFrame(full, columns=['Average']).T\n",
    "    full.to_csv(str(Path.cwd() /  Path(f'{current_time}.csv')))\n",
    "    return full"
   ],
   "metadata": {
    "collapsed": false,
    "pycharm": {
     "name": "#%%\n"
    }
   }
  },
  {
   "cell_type": "code",
   "execution_count": 21,
   "outputs": [
    {
     "name": "stdout",
     "output_type": "stream",
     "text": [
      "   dualdragon  eric  josuke  xinghuo  pornlordsu\n",
      "0        0.51  2.08    0.00     0.00        0.00\n",
      "1        0.51  2.18    0.00     0.00        0.00\n",
      "2        0.51  2.28    1.29     1.39        0.00\n",
      "3        0.51  2.38    1.19    10.99       11.29\n",
      "4        0.51  2.38    1.19    10.99       11.29\n"
     ]
    },
    {
     "data": {
      "text/plain": "         dualdragon  eric  josuke  xinghuo  pornlordsu\nAverage        0.51  2.26   0.734    4.674       4.516",
      "text/html": "<div>\n<style scoped>\n    .dataframe tbody tr th:only-of-type {\n        vertical-align: middle;\n    }\n\n    .dataframe tbody tr th {\n        vertical-align: top;\n    }\n\n    .dataframe thead th {\n        text-align: right;\n    }\n</style>\n<table border=\"1\" class=\"dataframe\">\n  <thead>\n    <tr style=\"text-align: right;\">\n      <th></th>\n      <th>dualdragon</th>\n      <th>eric</th>\n      <th>josuke</th>\n      <th>xinghuo</th>\n      <th>pornlordsu</th>\n    </tr>\n  </thead>\n  <tbody>\n    <tr>\n      <th>Average</th>\n      <td>0.51</td>\n      <td>2.26</td>\n      <td>0.734</td>\n      <td>4.674</td>\n      <td>4.516</td>\n    </tr>\n  </tbody>\n</table>\n</div>"
     },
     "execution_count": 21,
     "metadata": {},
     "output_type": "execute_result"
    }
   ],
   "source": [
    "DailyAverage()\n"
   ],
   "metadata": {
    "collapsed": false,
    "pycharm": {
     "name": "#%%\n"
    }
   }
  }
 ],
 "metadata": {
  "kernelspec": {
   "display_name": "Python 3",
   "language": "python",
   "name": "python3"
  },
  "language_info": {
   "codemirror_mode": {
    "name": "ipython",
    "version": 2
   },
   "file_extension": ".py",
   "mimetype": "text/x-python",
   "name": "python",
   "nbconvert_exporter": "python",
   "pygments_lexer": "ipython2",
   "version": "2.7.6"
  }
 },
 "nbformat": 4,
 "nbformat_minor": 0
}